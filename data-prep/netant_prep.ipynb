{
 "cells": [
  {
   "cell_type": "code",
   "execution_count": 24,
   "metadata": {},
   "outputs": [],
   "source": [
    "from elasticsearch import Elasticsearch"
   ]
  },
  {
   "cell_type": "code",
   "execution_count": 25,
   "metadata": {},
   "outputs": [],
   "source": [
    "es = Elasticsearch()\n",
    "INDEX_NAME = 'netant-terms'\n",
    "\n",
    "create_index_body = {\n",
    "        \"settings\": {\n",
    "            # just one shard, no replicas for testing\n",
    "            \"number_of_shards\": 1,\n",
    "            \"number_of_replicas\": 0\n",
    "        },\n",
    "        \"mappings\": {\n",
    "            \"properties\": {\n",
    "                \"term\": {\"type\": \"keyword\"},\n",
    "                \"term_suggest\": { \n",
    "                    \"type\": \"completion\",\n",
    "                    \"analyzer\" : \"keyword\",\n",
    "                    \"search_analyzer\" : \"keyword\"\n",
    "                },\n",
    "                \"term_type\": {\n",
    "                    \"type\": \"text\"\n",
    "                },\n",
    "                \"source\": {\n",
    "                    \"type\": \"text\"\n",
    "                }\n",
    "            }\n",
    "        },\n",
    "    }"
   ]
  },
  {
   "cell_type": "code",
   "execution_count": 26,
   "metadata": {},
   "outputs": [
    {
     "data": {
      "text/plain": [
       "{'acknowledged': True, 'shards_acknowledged': True, 'index': 'netant-terms'}"
      ]
     },
     "execution_count": 26,
     "metadata": {},
     "output_type": "execute_result"
    }
   ],
   "source": [
    "es.indices.delete(index=INDEX_NAME)\n",
    "es.indices.create(index=INDEX_NAME, ignore=400, body=create_index_body)"
   ]
  },
  {
   "cell_type": "code",
   "execution_count": 27,
   "metadata": {},
   "outputs": [],
   "source": [
    "f=open(\"./all_words_type_freq_gt_15.txt\", \"r\")\n",
    "all_words =f.read()"
   ]
  },
  {
   "cell_type": "code",
   "execution_count": 28,
   "metadata": {},
   "outputs": [
    {
     "data": {
      "text/plain": [
       "234545"
      ]
     },
     "execution_count": 28,
     "metadata": {},
     "output_type": "execute_result"
    }
   ],
   "source": [
    "lines = all_words.splitlines()\n",
    "len(lines)"
   ]
  },
  {
   "cell_type": "code",
   "execution_count": 29,
   "metadata": {},
   "outputs": [
    {
     "data": {
      "text/plain": [
       "['#270400 smith-lemli-opitz syndrome; slos;;slo syndrome;;rsh syndrome;;rutledge lethal multiple congenital anomaly syndrome;;polydactyly, sex reversal, renal hypoplasia, and unilobar lung;;lethal acrodysgenital syndrome\\tdisease\\thpo',\n",
       " 'rnf7p1\\tgene\\tncbi',\n",
       " 'cd120b\\tgene\\tncbi',\n",
       " 'cd120a\\tgene\\tncbi',\n",
       " 'cd257\\tgene\\tncbi',\n",
       " 'establishment of mitotic spindle localization\\tfunction\\tGO',\n",
       " 'mll1 complex\\tfunction\\tGO',\n",
       " 'cd256\\tgene\\tncbi',\n",
       " 'regulation of production of sirna involved in chromatin silencing by small rna\\tfunction\\tGO',\n",
       " 'neurl1\\tgene\\tmonarch']"
      ]
     },
     "execution_count": 29,
     "metadata": {},
     "output_type": "execute_result"
    }
   ],
   "source": [
    "lines[0:10]"
   ]
  },
  {
   "cell_type": "code",
   "execution_count": 30,
   "metadata": {},
   "outputs": [],
   "source": [
    "def batch_insert_data(lines):\n",
    "    for line in lines:\n",
    "        row = line.split('\\t')\n",
    "        yield {\n",
    "            \"_index\": INDEX_NAME,\n",
    "            \"term\": row[0],\n",
    "            \"term_suggest\": row[0],\n",
    "            \"term_type\": row[1],\n",
    "            \"source\": row[2]\n",
    "        }"
   ]
  },
  {
   "cell_type": "code",
   "execution_count": 31,
   "metadata": {},
   "outputs": [
    {
     "data": {
      "text/plain": [
       "(234545, [])"
      ]
     },
     "execution_count": 31,
     "metadata": {},
     "output_type": "execute_result"
    }
   ],
   "source": [
    "from elasticsearch import helpers\n",
    "helpers.bulk(es, batch_insert_data(lines))"
   ]
  },
  {
   "cell_type": "code",
   "execution_count": 32,
   "metadata": {},
   "outputs": [
    {
     "data": {
      "text/plain": [
       "{'took': 21,\n",
       " 'timed_out': False,\n",
       " '_shards': {'total': 1, 'successful': 1, 'skipped': 0, 'failed': 0},\n",
       " 'hits': {'total': {'value': 0, 'relation': 'eq'},\n",
       "  'max_score': None,\n",
       "  'hits': []},\n",
       " 'suggest': {'term-suggest': [{'text': 'brca',\n",
       "    'offset': 0,\n",
       "    'length': 4,\n",
       "    'options': [{'text': 'brca1',\n",
       "      '_index': 'netant-terms',\n",
       "      '_type': '_doc',\n",
       "      '_id': 'ivn6i2sBNIhWNO-7JxFu',\n",
       "      '_score': 3.0,\n",
       "      '_source': {'term': 'brca1',\n",
       "       'term_suggest': 'brca1',\n",
       "       'term_type': 'gene',\n",
       "       'source': 'CCLE'}},\n",
       "     {'text': 'brca1 protein',\n",
       "      '_index': 'netant-terms',\n",
       "      '_type': '_doc',\n",
       "      '_id': 'n_j6i2sBNIhWNO-7HHeJ',\n",
       "      '_score': 3.0,\n",
       "      '_source': {'term': 'brca1 protein',\n",
       "       'term_suggest': 'brca1 protein',\n",
       "       'term_type': 'drug',\n",
       "       'source': 'mesh'}},\n",
       "     {'text': 'brca1-a complex',\n",
       "      '_index': 'netant-terms',\n",
       "      '_type': '_doc',\n",
       "      '_id': '-vr6i2sBNIhWNO-7PStG',\n",
       "      '_score': 3.0,\n",
       "      '_source': {'term': 'brca1-a complex',\n",
       "       'term_suggest': 'brca1-a complex',\n",
       "       'term_type': 'function',\n",
       "       'source': 'GO'}},\n",
       "     {'text': 'brca1-b complex',\n",
       "      '_index': 'netant-terms',\n",
       "      '_type': '_doc',\n",
       "      '_id': 'x_r6i2sBNIhWNO-7PjgZ',\n",
       "      '_score': 3.0,\n",
       "      '_source': {'term': 'brca1-b complex',\n",
       "       'term_suggest': 'brca1-b complex',\n",
       "       'term_type': 'function',\n",
       "       'source': 'GO'}},\n",
       "     {'text': 'brca1-bard1 complex',\n",
       "      '_index': 'netant-terms',\n",
       "      '_type': '_doc',\n",
       "      '_id': 'fvr6i2sBNIhWNO-7PCfl',\n",
       "      '_score': 3.0,\n",
       "      '_source': {'term': 'brca1-bard1 complex',\n",
       "       'term_suggest': 'brca1-bard1 complex',\n",
       "       'term_type': 'function',\n",
       "       'source': 'GO'}},\n",
       "     {'text': 'brca1-c complex',\n",
       "      '_index': 'netant-terms',\n",
       "      '_type': '_doc',\n",
       "      '_id': 'dfj6i2sBNIhWNO-7G2qk',\n",
       "      '_score': 3.0,\n",
       "      '_source': {'term': 'brca1-c complex',\n",
       "       'term_suggest': 'brca1-c complex',\n",
       "       'term_type': 'function',\n",
       "       'source': 'GO'}},\n",
       "     {'text': 'brca1-rad51 complex',\n",
       "      '_index': 'netant-terms',\n",
       "      '_type': '_doc',\n",
       "      '_id': 'Ufn6i2sBNIhWNO-7Lm5d',\n",
       "      '_score': 3.0,\n",
       "      '_source': {'term': 'brca1-rad51 complex',\n",
       "       'term_suggest': 'brca1-rad51 complex',\n",
       "       'term_type': 'function',\n",
       "       'source': 'GO'}},\n",
       "     {'text': 'brca1p1',\n",
       "      '_index': 'netant-terms',\n",
       "      '_type': '_doc',\n",
       "      '_id': 'Kfr6i2sBNIhWNO-7PTKy',\n",
       "      '_score': 3.0,\n",
       "      '_source': {'term': 'brca1p1',\n",
       "       'term_suggest': 'brca1p1',\n",
       "       'term_type': 'gene',\n",
       "       'source': 'ncbi'}},\n",
       "     {'text': 'brca2',\n",
       "      '_index': 'netant-terms',\n",
       "      '_type': '_doc',\n",
       "      '_id': 'jfn6i2sBNIhWNO-7JxFu',\n",
       "      '_score': 3.0,\n",
       "      '_source': {'term': 'brca2',\n",
       "       'term_suggest': 'brca2',\n",
       "       'term_type': 'gene',\n",
       "       'source': 'CCLE'}},\n",
       "     {'text': 'brca2 protein',\n",
       "      '_index': 'netant-terms',\n",
       "      '_type': '_doc',\n",
       "      '_id': 'j_j6i2sBNIhWNO-7GEHm',\n",
       "      '_score': 3.0,\n",
       "      '_source': {'term': 'brca2 protein',\n",
       "       'term_suggest': 'brca2 protein',\n",
       "       'term_type': 'drug',\n",
       "       'source': 'mesh'}},\n",
       "     {'text': 'brca2-braf35 complex',\n",
       "      '_index': 'netant-terms',\n",
       "      '_type': '_doc',\n",
       "      '_id': 'dvj6i2sBNIhWNO-7Jfre',\n",
       "      '_score': 3.0,\n",
       "      '_source': {'term': 'brca2-braf35 complex',\n",
       "       'term_suggest': 'brca2-braf35 complex',\n",
       "       'term_type': 'function',\n",
       "       'source': 'GO'}},\n",
       "     {'text': 'brca2-mage-d1 complex',\n",
       "      '_index': 'netant-terms',\n",
       "      '_type': '_doc',\n",
       "      '_id': '__f6i2sBNIhWNO-7EM5H',\n",
       "      '_score': 3.0,\n",
       "      '_source': {'term': 'brca2-mage-d1 complex',\n",
       "       'term_suggest': 'brca2-mage-d1 complex',\n",
       "       'term_type': 'function',\n",
       "       'source': 'GO'}},\n",
       "     {'text': 'brca3',\n",
       "      '_index': 'netant-terms',\n",
       "      '_type': '_doc',\n",
       "      '_id': 'Wfn6i2sBNIhWNO-7LFqe',\n",
       "      '_score': 3.0,\n",
       "      '_source': {'term': 'brca3',\n",
       "       'term_suggest': 'brca3',\n",
       "       'term_type': 'gene',\n",
       "       'source': 'ncbi'}},\n",
       "     {'text': 'brcaa1',\n",
       "      '_index': 'netant-terms',\n",
       "      '_type': '_doc',\n",
       "      '_id': 'ufn6i2sBNIhWNO-7N-Fg',\n",
       "      '_score': 3.0,\n",
       "      '_source': {'term': 'brcaa1',\n",
       "       'term_suggest': 'brcaa1',\n",
       "       'term_type': 'gene',\n",
       "       'source': 'ncbi'}},\n",
       "     {'text': 'brcacox',\n",
       "      '_index': 'netant-terms',\n",
       "      '_type': '_doc',\n",
       "      '_id': 'tvj6i2sBNIhWNO-7GlyU',\n",
       "      '_score': 3.0,\n",
       "      '_source': {'term': 'brcacox',\n",
       "       'term_suggest': 'brcacox',\n",
       "       'term_type': 'gene',\n",
       "       'source': 'ncbi'}},\n",
       "     {'text': 'brcai',\n",
       "      '_index': 'netant-terms',\n",
       "      '_type': '_doc',\n",
       "      '_id': 'dPn6i2sBNIhWNO-7JxFu',\n",
       "      '_score': 3.0,\n",
       "      '_source': {'term': 'brcai',\n",
       "       'term_suggest': 'brcai',\n",
       "       'term_type': 'gene',\n",
       "       'source': 'ncbi'}},\n",
       "     {'text': 'brcat107',\n",
       "      '_index': 'netant-terms',\n",
       "      '_type': '_doc',\n",
       "      '_id': 'L_r6i2sBNIhWNO-7PSkD',\n",
       "      '_score': 3.0,\n",
       "      '_source': {'term': 'brcat107',\n",
       "       'term_suggest': 'brcat107',\n",
       "       'term_type': 'gene',\n",
       "       'source': 'ncbi'}},\n",
       "     {'text': 'brcat54',\n",
       "      '_index': 'netant-terms',\n",
       "      '_type': '_doc',\n",
       "      '_id': 's_r6i2sBNIhWNO-7SscI',\n",
       "      '_score': 3.0,\n",
       "      '_source': {'term': 'brcat54',\n",
       "       'term_suggest': 'brcat54',\n",
       "       'term_type': 'gene',\n",
       "       'source': 'ncbi'}},\n",
       "     {'text': 'brcat8',\n",
       "      '_index': 'netant-terms',\n",
       "      '_type': '_doc',\n",
       "      '_id': '1vn6i2sBNIhWNO-7M7DC',\n",
       "      '_score': 3.0,\n",
       "      '_source': {'term': 'brcat8',\n",
       "       'term_suggest': 'brcat8',\n",
       "       'term_type': 'gene',\n",
       "       'source': 'ncbi'}},\n",
       "     {'text': 'brcata',\n",
       "      '_index': 'netant-terms',\n",
       "      '_type': '_doc',\n",
       "      '_id': '3vn6i2sBNIhWNO-7M7DC',\n",
       "      '_score': 3.0,\n",
       "      '_source': {'term': 'brcata',\n",
       "       'term_suggest': 'brcata',\n",
       "       'term_type': 'gene',\n",
       "       'source': 'ncbi'}}]}]}}"
      ]
     },
     "execution_count": 32,
     "metadata": {},
     "output_type": "execute_result"
    }
   ],
   "source": [
    "query1 = {\n",
    "    \"query\": {\n",
    "        \"query_string\": {\n",
    "            \"query\": \"brca OR tp53\"\n",
    "        }\n",
    "    },\n",
    "    \"size\": 100\n",
    "}\n",
    "\n",
    "\n",
    "query2 = {\n",
    "     \"suggest\": {\n",
    "        \"term-suggest\" : {\n",
    "            \"text\" : \"brca\", \n",
    "            \"completion\" : { \n",
    "                \"field\" : \"term_suggest\",\n",
    "                \"skip_duplicates\": True,\n",
    "                \"size\": 20,\n",
    "                \"fuzzy\" : {\n",
    "                    \"fuzziness\" : \"AUTO\"\n",
    "                }\n",
    "            }\n",
    "        }\n",
    "    }\n",
    "}\n",
    "\n",
    "res = es.search(index=INDEX_NAME, body=query2)\n",
    "res"
   ]
  },
  {
   "cell_type": "code",
   "execution_count": null,
   "metadata": {},
   "outputs": [],
   "source": []
  }
 ],
 "metadata": {
  "kernelspec": {
   "display_name": "Python 3",
   "language": "python",
   "name": "python3"
  },
  "language_info": {
   "codemirror_mode": {
    "name": "ipython",
    "version": 3
   },
   "file_extension": ".py",
   "mimetype": "text/x-python",
   "name": "python",
   "nbconvert_exporter": "python",
   "pygments_lexer": "ipython3",
   "version": "3.7.3"
  }
 },
 "nbformat": 4,
 "nbformat_minor": 2
}
