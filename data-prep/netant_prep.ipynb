{
 "cells": [
  {
   "cell_type": "code",
   "execution_count": 1,
   "metadata": {},
   "outputs": [],
   "source": [
    "from elasticsearch import Elasticsearch"
   ]
  },
  {
   "cell_type": "code",
   "execution_count": 2,
   "metadata": {},
   "outputs": [],
   "source": [
    "es = Elasticsearch()\n",
    "INDEX_NAME = 'netant-terms'\n",
    "\n",
    "create_index_body = {\n",
    "        \"settings\": {\n",
    "            # just one shard, no replicas for testing\n",
    "            \"number_of_shards\": 1,\n",
    "            \"number_of_replicas\": 0\n",
    "        },\n",
    "        \"mappings\": {\n",
    "            \"properties\": {\n",
    "                \"term\": {\"type\": \"keyword\"},\n",
    "                \"term_suggest\": { \n",
    "                    \"type\": \"completion\",\n",
    "                    \"analyzer\" : \"keyword\",\n",
    "                    \"search_analyzer\" : \"keyword\"\n",
    "                },\n",
    "                \"term_type\": {\n",
    "                    \"type\": \"text\"\n",
    "                },\n",
    "                \"source\": {\n",
    "                    \"type\": \"text\"\n",
    "                }\n",
    "            }\n",
    "        },\n",
    "    }"
   ]
  },
  {
   "cell_type": "code",
   "execution_count": 3,
   "metadata": {},
   "outputs": [
    {
     "data": {
      "text/plain": [
       "{'acknowledged': True, 'shards_acknowledged': True, 'index': 'netant-terms'}"
      ]
     },
     "execution_count": 3,
     "metadata": {},
     "output_type": "execute_result"
    }
   ],
   "source": [
    "# es.indices.delete(index=INDEX_NAME)\n",
    "es.indices.create(index=INDEX_NAME, ignore=400, body=create_index_body)"
   ]
  },
  {
   "cell_type": "code",
   "execution_count": 4,
   "metadata": {},
   "outputs": [],
   "source": [
    "f=open(\"./all_words_type_freq_gt_15.txt\", \"r\")\n",
    "all_words =f.read()"
   ]
  },
  {
   "cell_type": "code",
   "execution_count": 5,
   "metadata": {},
   "outputs": [
    {
     "data": {
      "text/plain": [
       "234545"
      ]
     },
     "execution_count": 5,
     "metadata": {},
     "output_type": "execute_result"
    }
   ],
   "source": [
    "lines = all_words.splitlines()\n",
    "len(lines)"
   ]
  },
  {
   "cell_type": "code",
   "execution_count": 6,
   "metadata": {},
   "outputs": [
    {
     "data": {
      "text/plain": [
       "['#270400 smith-lemli-opitz syndrome; slos;;slo syndrome;;rsh syndrome;;rutledge lethal multiple congenital anomaly syndrome;;polydactyly, sex reversal, renal hypoplasia, and unilobar lung;;lethal acrodysgenital syndrome\\tdisease\\thpo',\n",
       " 'rnf7p1\\tgene\\tncbi',\n",
       " 'cd120b\\tgene\\tncbi',\n",
       " 'cd120a\\tgene\\tncbi',\n",
       " 'cd257\\tgene\\tncbi',\n",
       " 'establishment of mitotic spindle localization\\tfunction\\tGO',\n",
       " 'mll1 complex\\tfunction\\tGO',\n",
       " 'cd256\\tgene\\tncbi',\n",
       " 'regulation of production of sirna involved in chromatin silencing by small rna\\tfunction\\tGO',\n",
       " 'neurl1\\tgene\\tmonarch']"
      ]
     },
     "execution_count": 6,
     "metadata": {},
     "output_type": "execute_result"
    }
   ],
   "source": [
    "lines[0:10]"
   ]
  },
  {
   "cell_type": "code",
   "execution_count": 7,
   "metadata": {},
   "outputs": [],
   "source": [
    "def batch_insert_data(lines):\n",
    "    for line in lines:\n",
    "        row = line.split('\\t')\n",
    "        yield {\n",
    "            \"_index\": INDEX_NAME,\n",
    "            \"term\": row[0],\n",
    "            \"term_suggest\": row[0],\n",
    "            \"term_type\": row[1],\n",
    "            \"source\": row[2]\n",
    "        }"
   ]
  },
  {
   "cell_type": "code",
   "execution_count": 8,
   "metadata": {},
   "outputs": [
    {
     "data": {
      "text/plain": [
       "(234545, [])"
      ]
     },
     "execution_count": 8,
     "metadata": {},
     "output_type": "execute_result"
    }
   ],
   "source": [
    "from elasticsearch import helpers\n",
    "helpers.bulk(es, batch_insert_data(lines))"
   ]
  },
  {
   "cell_type": "code",
   "execution_count": null,
   "metadata": {},
   "outputs": [],
   "source": [
    "query1 = {\n",
    "    \"query\": {\n",
    "        \"query_string\": {\n",
    "            \"query\": \"tp53\"\n",
    "        }\n",
    "    },\n",
    "    \"size\": 100\n",
    "}\n",
    "\n",
    "\n",
    "query2 = {\n",
    "     \"suggest\": {\n",
    "        \"term-suggest\" : {\n",
    "            \"text\" : \"brca\", \n",
    "            \"completion\" : { \n",
    "                \"field\" : \"term_suggest\",\n",
    "                \"skip_duplicates\": True,\n",
    "                \"size\": 20,\n",
    "                \"fuzzy\" : {\n",
    "                    \"fuzziness\" : \"AUTO\"\n",
    "                }\n",
    "            }\n",
    "        }\n",
    "    }\n",
    "}\n",
    "\n",
    "res = es.search(index=INDEX_NAME, body=query2)\n",
    "res"
   ]
  },
  {
   "cell_type": "code",
   "execution_count": null,
   "metadata": {},
   "outputs": [],
   "source": []
  }
 ],
 "metadata": {
  "kernelspec": {
   "display_name": "Python 3",
   "language": "python",
   "name": "python3"
  },
  "language_info": {
   "codemirror_mode": {
    "name": "ipython",
    "version": 3
   },
   "file_extension": ".py",
   "mimetype": "text/x-python",
   "name": "python",
   "nbconvert_exporter": "python",
   "pygments_lexer": "ipython3",
   "version": "3.7.3"
  }
 },
 "nbformat": 4,
 "nbformat_minor": 4
}
